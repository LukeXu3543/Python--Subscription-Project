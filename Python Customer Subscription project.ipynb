{
 "cells": [
  {
   "cell_type": "code",
   "execution_count": 255,
   "id": "fef1162e",
   "metadata": {},
   "outputs": [],
   "source": [
    "import pandas as pd\n",
    "import numpy as np\n",
    "import matplotlib.pyplot as plt\n",
    "import seaborn as sns\n",
    "%matplotlib inline"
   ]
  },
  {
   "cell_type": "code",
   "execution_count": 256,
   "id": "f6e19307",
   "metadata": {},
   "outputs": [],
   "source": [
    "#import data\n",
    "\n",
    "customer_cases = pd.read_csv('/Users/luke.xu/Desktop/dat project dataset/Customer subscription Python project/customer_cases.csv',index_col = 0)\n",
    "customer_info = pd.read_csv('/Users/luke.xu/Desktop/dat project dataset/Customer subscription Python project/customer_info.csv',index_col = 0)\n",
    "customer_product = pd.read_csv('/Users/luke.xu/Desktop/dat project dataset/Customer subscription Python project/customer_product.csv',index_col = 0)\n",
    "product_info = pd.read_csv('/Users/luke.xu/Desktop/dat project dataset/Customer subscription Python project/product_info.csv')"
   ]
  },
  {
   "cell_type": "code",
   "execution_count": 257,
   "id": "9774a5f0",
   "metadata": {},
   "outputs": [
    {
     "data": {
      "text/html": [
       "<div>\n",
       "<style scoped>\n",
       "    .dataframe tbody tr th:only-of-type {\n",
       "        vertical-align: middle;\n",
       "    }\n",
       "\n",
       "    .dataframe tbody tr th {\n",
       "        vertical-align: top;\n",
       "    }\n",
       "\n",
       "    .dataframe thead th {\n",
       "        text-align: right;\n",
       "    }\n",
       "</style>\n",
       "<table border=\"1\" class=\"dataframe\">\n",
       "  <thead>\n",
       "    <tr style=\"text-align: right;\">\n",
       "      <th></th>\n",
       "      <th>case_id</th>\n",
       "      <th>date_time</th>\n",
       "      <th>customer_id</th>\n",
       "      <th>channel</th>\n",
       "      <th>reason</th>\n",
       "    </tr>\n",
       "  </thead>\n",
       "  <tbody>\n",
       "    <tr>\n",
       "      <th>1</th>\n",
       "      <td>CC101</td>\n",
       "      <td>2017-01-01 10:32:03</td>\n",
       "      <td>C2448</td>\n",
       "      <td>phone</td>\n",
       "      <td>signup</td>\n",
       "    </tr>\n",
       "    <tr>\n",
       "      <th>2</th>\n",
       "      <td>CC102</td>\n",
       "      <td>2017-01-01 11:35:47</td>\n",
       "      <td>C2449</td>\n",
       "      <td>phone</td>\n",
       "      <td>signup</td>\n",
       "    </tr>\n",
       "    <tr>\n",
       "      <th>3</th>\n",
       "      <td>CC103</td>\n",
       "      <td>2017-01-01 11:37:09</td>\n",
       "      <td>C2450</td>\n",
       "      <td>phone</td>\n",
       "      <td>signup</td>\n",
       "    </tr>\n",
       "    <tr>\n",
       "      <th>4</th>\n",
       "      <td>CC104</td>\n",
       "      <td>2017-01-01 13:28:14</td>\n",
       "      <td>C2451</td>\n",
       "      <td>phone</td>\n",
       "      <td>signup</td>\n",
       "    </tr>\n",
       "    <tr>\n",
       "      <th>5</th>\n",
       "      <td>CC105</td>\n",
       "      <td>2017-01-01 13:52:22</td>\n",
       "      <td>C2452</td>\n",
       "      <td>phone</td>\n",
       "      <td>signup</td>\n",
       "    </tr>\n",
       "  </tbody>\n",
       "</table>\n",
       "</div>"
      ],
      "text/plain": [
       "  case_id            date_time customer_id channel  reason\n",
       "1   CC101  2017-01-01 10:32:03       C2448   phone  signup\n",
       "2   CC102  2017-01-01 11:35:47       C2449   phone  signup\n",
       "3   CC103  2017-01-01 11:37:09       C2450   phone  signup\n",
       "4   CC104  2017-01-01 13:28:14       C2451   phone  signup\n",
       "5   CC105  2017-01-01 13:52:22       C2452   phone  signup"
      ]
     },
     "execution_count": 257,
     "metadata": {},
     "output_type": "execute_result"
    }
   ],
   "source": [
    "# Let's have a quick look at the data\n",
    "\n",
    "customer_cases.head()"
   ]
  },
  {
   "cell_type": "code",
   "execution_count": 258,
   "id": "f9e2e621",
   "metadata": {},
   "outputs": [
    {
     "data": {
      "text/html": [
       "<div>\n",
       "<style scoped>\n",
       "    .dataframe tbody tr th:only-of-type {\n",
       "        vertical-align: middle;\n",
       "    }\n",
       "\n",
       "    .dataframe tbody tr th {\n",
       "        vertical-align: top;\n",
       "    }\n",
       "\n",
       "    .dataframe thead th {\n",
       "        text-align: right;\n",
       "    }\n",
       "</style>\n",
       "<table border=\"1\" class=\"dataframe\">\n",
       "  <thead>\n",
       "    <tr style=\"text-align: right;\">\n",
       "      <th></th>\n",
       "      <th>customer_id</th>\n",
       "      <th>age</th>\n",
       "      <th>gender</th>\n",
       "    </tr>\n",
       "  </thead>\n",
       "  <tbody>\n",
       "    <tr>\n",
       "      <th>1</th>\n",
       "      <td>C2448</td>\n",
       "      <td>76</td>\n",
       "      <td>female</td>\n",
       "    </tr>\n",
       "    <tr>\n",
       "      <th>2</th>\n",
       "      <td>C2449</td>\n",
       "      <td>61</td>\n",
       "      <td>male</td>\n",
       "    </tr>\n",
       "    <tr>\n",
       "      <th>3</th>\n",
       "      <td>C2450</td>\n",
       "      <td>58</td>\n",
       "      <td>female</td>\n",
       "    </tr>\n",
       "    <tr>\n",
       "      <th>4</th>\n",
       "      <td>C2451</td>\n",
       "      <td>62</td>\n",
       "      <td>female</td>\n",
       "    </tr>\n",
       "    <tr>\n",
       "      <th>5</th>\n",
       "      <td>C2452</td>\n",
       "      <td>71</td>\n",
       "      <td>male</td>\n",
       "    </tr>\n",
       "  </tbody>\n",
       "</table>\n",
       "</div>"
      ],
      "text/plain": [
       "  customer_id  age  gender\n",
       "1       C2448   76  female\n",
       "2       C2449   61    male\n",
       "3       C2450   58  female\n",
       "4       C2451   62  female\n",
       "5       C2452   71    male"
      ]
     },
     "execution_count": 258,
     "metadata": {},
     "output_type": "execute_result"
    }
   ],
   "source": [
    "customer_info.head()"
   ]
  },
  {
   "cell_type": "code",
   "execution_count": 259,
   "id": "be1aa226",
   "metadata": {},
   "outputs": [
    {
     "data": {
      "text/html": [
       "<div>\n",
       "<style scoped>\n",
       "    .dataframe tbody tr th:only-of-type {\n",
       "        vertical-align: middle;\n",
       "    }\n",
       "\n",
       "    .dataframe tbody tr th {\n",
       "        vertical-align: top;\n",
       "    }\n",
       "\n",
       "    .dataframe thead th {\n",
       "        text-align: right;\n",
       "    }\n",
       "</style>\n",
       "<table border=\"1\" class=\"dataframe\">\n",
       "  <thead>\n",
       "    <tr style=\"text-align: right;\">\n",
       "      <th></th>\n",
       "      <th>customer_id</th>\n",
       "      <th>product</th>\n",
       "      <th>signup_date_time</th>\n",
       "      <th>cancel_date_time</th>\n",
       "    </tr>\n",
       "  </thead>\n",
       "  <tbody>\n",
       "    <tr>\n",
       "      <th>1</th>\n",
       "      <td>C2448</td>\n",
       "      <td>prd_1</td>\n",
       "      <td>2017-01-01 10:35:09</td>\n",
       "      <td>NaN</td>\n",
       "    </tr>\n",
       "    <tr>\n",
       "      <th>2</th>\n",
       "      <td>C2449</td>\n",
       "      <td>prd_1</td>\n",
       "      <td>2017-01-01 11:39:29</td>\n",
       "      <td>2021-09-05 10:00:02</td>\n",
       "    </tr>\n",
       "    <tr>\n",
       "      <th>3</th>\n",
       "      <td>C2450</td>\n",
       "      <td>prd_1</td>\n",
       "      <td>2017-01-01 11:42:00</td>\n",
       "      <td>2019-01-13 16:24:55</td>\n",
       "    </tr>\n",
       "    <tr>\n",
       "      <th>4</th>\n",
       "      <td>C2451</td>\n",
       "      <td>prd_2</td>\n",
       "      <td>2017-01-01 13:32:08</td>\n",
       "      <td>NaN</td>\n",
       "    </tr>\n",
       "    <tr>\n",
       "      <th>5</th>\n",
       "      <td>C2452</td>\n",
       "      <td>prd_1</td>\n",
       "      <td>2017-01-01 13:57:30</td>\n",
       "      <td>2021-06-28 18:06:01</td>\n",
       "    </tr>\n",
       "  </tbody>\n",
       "</table>\n",
       "</div>"
      ],
      "text/plain": [
       "  customer_id product     signup_date_time     cancel_date_time\n",
       "1       C2448   prd_1  2017-01-01 10:35:09                  NaN\n",
       "2       C2449   prd_1  2017-01-01 11:39:29  2021-09-05 10:00:02\n",
       "3       C2450   prd_1  2017-01-01 11:42:00  2019-01-13 16:24:55\n",
       "4       C2451   prd_2  2017-01-01 13:32:08                  NaN\n",
       "5       C2452   prd_1  2017-01-01 13:57:30  2021-06-28 18:06:01"
      ]
     },
     "execution_count": 259,
     "metadata": {},
     "output_type": "execute_result"
    }
   ],
   "source": [
    "customer_product.head()"
   ]
  },
  {
   "cell_type": "code",
   "execution_count": 260,
   "id": "93b4f680",
   "metadata": {},
   "outputs": [
    {
     "data": {
      "text/html": [
       "<div>\n",
       "<style scoped>\n",
       "    .dataframe tbody tr th:only-of-type {\n",
       "        vertical-align: middle;\n",
       "    }\n",
       "\n",
       "    .dataframe tbody tr th {\n",
       "        vertical-align: top;\n",
       "    }\n",
       "\n",
       "    .dataframe thead th {\n",
       "        text-align: right;\n",
       "    }\n",
       "</style>\n",
       "<table border=\"1\" class=\"dataframe\">\n",
       "  <thead>\n",
       "    <tr style=\"text-align: right;\">\n",
       "      <th></th>\n",
       "      <th>product</th>\n",
       "      <th>name</th>\n",
       "      <th>price</th>\n",
       "      <th>billing_cycle</th>\n",
       "    </tr>\n",
       "  </thead>\n",
       "  <tbody>\n",
       "    <tr>\n",
       "      <th>0</th>\n",
       "      <td>prd_1</td>\n",
       "      <td>annual_subscription</td>\n",
       "      <td>1200</td>\n",
       "      <td>12</td>\n",
       "    </tr>\n",
       "    <tr>\n",
       "      <th>1</th>\n",
       "      <td>prd_2</td>\n",
       "      <td>monthly_subscription</td>\n",
       "      <td>125</td>\n",
       "      <td>1</td>\n",
       "    </tr>\n",
       "  </tbody>\n",
       "</table>\n",
       "</div>"
      ],
      "text/plain": [
       "  product                  name  price  billing_cycle\n",
       "0   prd_1   annual_subscription   1200             12\n",
       "1   prd_2  monthly_subscription    125              1"
      ]
     },
     "execution_count": 260,
     "metadata": {},
     "output_type": "execute_result"
    }
   ],
   "source": [
    "product_info = product_info.rename(columns = {'product_id':'product'})\n",
    "product_info.head()"
   ]
  },
  {
   "cell_type": "code",
   "execution_count": 261,
   "id": "b828a246",
   "metadata": {},
   "outputs": [
    {
     "data": {
      "text/html": [
       "<div>\n",
       "<style scoped>\n",
       "    .dataframe tbody tr th:only-of-type {\n",
       "        vertical-align: middle;\n",
       "    }\n",
       "\n",
       "    .dataframe tbody tr th {\n",
       "        vertical-align: top;\n",
       "    }\n",
       "\n",
       "    .dataframe thead th {\n",
       "        text-align: right;\n",
       "    }\n",
       "</style>\n",
       "<table border=\"1\" class=\"dataframe\">\n",
       "  <thead>\n",
       "    <tr style=\"text-align: right;\">\n",
       "      <th></th>\n",
       "      <th>case_id</th>\n",
       "      <th>date_time</th>\n",
       "      <th>customer_id</th>\n",
       "      <th>channel</th>\n",
       "      <th>reason</th>\n",
       "      <th>age</th>\n",
       "      <th>gender</th>\n",
       "      <th>product</th>\n",
       "      <th>signup_date_time</th>\n",
       "      <th>cancel_date_time</th>\n",
       "      <th>name</th>\n",
       "      <th>price</th>\n",
       "      <th>billing_cycle</th>\n",
       "    </tr>\n",
       "  </thead>\n",
       "  <tbody>\n",
       "    <tr>\n",
       "      <th>0</th>\n",
       "      <td>CC101</td>\n",
       "      <td>2017-01-01 10:32:03</td>\n",
       "      <td>C2448</td>\n",
       "      <td>phone</td>\n",
       "      <td>signup</td>\n",
       "      <td>76</td>\n",
       "      <td>female</td>\n",
       "      <td>prd_1</td>\n",
       "      <td>2017-01-01 10:35:09</td>\n",
       "      <td>NaN</td>\n",
       "      <td>annual_subscription</td>\n",
       "      <td>1200</td>\n",
       "      <td>12</td>\n",
       "    </tr>\n",
       "    <tr>\n",
       "      <th>1</th>\n",
       "      <td>CC102</td>\n",
       "      <td>2017-01-01 11:35:47</td>\n",
       "      <td>C2449</td>\n",
       "      <td>phone</td>\n",
       "      <td>signup</td>\n",
       "      <td>61</td>\n",
       "      <td>male</td>\n",
       "      <td>prd_1</td>\n",
       "      <td>2017-01-01 11:39:29</td>\n",
       "      <td>2021-09-05 10:00:02</td>\n",
       "      <td>annual_subscription</td>\n",
       "      <td>1200</td>\n",
       "      <td>12</td>\n",
       "    </tr>\n",
       "    <tr>\n",
       "      <th>2</th>\n",
       "      <td>CC103</td>\n",
       "      <td>2017-01-01 11:37:09</td>\n",
       "      <td>C2450</td>\n",
       "      <td>phone</td>\n",
       "      <td>signup</td>\n",
       "      <td>58</td>\n",
       "      <td>female</td>\n",
       "      <td>prd_1</td>\n",
       "      <td>2017-01-01 11:42:00</td>\n",
       "      <td>2019-01-13 16:24:55</td>\n",
       "      <td>annual_subscription</td>\n",
       "      <td>1200</td>\n",
       "      <td>12</td>\n",
       "    </tr>\n",
       "    <tr>\n",
       "      <th>3</th>\n",
       "      <td>CC104</td>\n",
       "      <td>2017-01-01 13:28:14</td>\n",
       "      <td>C2451</td>\n",
       "      <td>phone</td>\n",
       "      <td>signup</td>\n",
       "      <td>62</td>\n",
       "      <td>female</td>\n",
       "      <td>prd_2</td>\n",
       "      <td>2017-01-01 13:32:08</td>\n",
       "      <td>NaN</td>\n",
       "      <td>monthly_subscription</td>\n",
       "      <td>125</td>\n",
       "      <td>1</td>\n",
       "    </tr>\n",
       "    <tr>\n",
       "      <th>4</th>\n",
       "      <td>CC105</td>\n",
       "      <td>2017-01-01 13:52:22</td>\n",
       "      <td>C2452</td>\n",
       "      <td>phone</td>\n",
       "      <td>signup</td>\n",
       "      <td>71</td>\n",
       "      <td>male</td>\n",
       "      <td>prd_1</td>\n",
       "      <td>2017-01-01 13:57:30</td>\n",
       "      <td>2021-06-28 18:06:01</td>\n",
       "      <td>annual_subscription</td>\n",
       "      <td>1200</td>\n",
       "      <td>12</td>\n",
       "    </tr>\n",
       "  </tbody>\n",
       "</table>\n",
       "</div>"
      ],
      "text/plain": [
       "  case_id            date_time customer_id channel  reason  age  gender  \\\n",
       "0   CC101  2017-01-01 10:32:03       C2448   phone  signup   76  female   \n",
       "1   CC102  2017-01-01 11:35:47       C2449   phone  signup   61    male   \n",
       "2   CC103  2017-01-01 11:37:09       C2450   phone  signup   58  female   \n",
       "3   CC104  2017-01-01 13:28:14       C2451   phone  signup   62  female   \n",
       "4   CC105  2017-01-01 13:52:22       C2452   phone  signup   71    male   \n",
       "\n",
       "  product     signup_date_time     cancel_date_time                  name  \\\n",
       "0   prd_1  2017-01-01 10:35:09                  NaN   annual_subscription   \n",
       "1   prd_1  2017-01-01 11:39:29  2021-09-05 10:00:02   annual_subscription   \n",
       "2   prd_1  2017-01-01 11:42:00  2019-01-13 16:24:55   annual_subscription   \n",
       "3   prd_2  2017-01-01 13:32:08                  NaN  monthly_subscription   \n",
       "4   prd_1  2017-01-01 13:57:30  2021-06-28 18:06:01   annual_subscription   \n",
       "\n",
       "   price  billing_cycle  \n",
       "0   1200             12  \n",
       "1   1200             12  \n",
       "2   1200             12  \n",
       "3    125              1  \n",
       "4   1200             12  "
      ]
     },
     "execution_count": 261,
     "metadata": {},
     "output_type": "execute_result"
    }
   ],
   "source": [
    "# Let's join tables to make it easier for comparing data\n",
    "\n",
    "tb1 = pd.merge(customer_cases,customer_info,how = 'left', on = 'customer_id')\n",
    "tb2 = pd.merge(tb1, customer_product, how = 'left', on = 'customer_id')\n",
    "tb3 = pd.merge(tb2, product_info, how = 'left', on = 'product')\n",
    "tb3.head()"
   ]
  },
  {
   "cell_type": "code",
   "execution_count": 262,
   "id": "bbafb318",
   "metadata": {},
   "outputs": [
    {
     "name": "stdout",
     "output_type": "stream",
     "text": [
      "case_id             object\n",
      "date_time           object\n",
      "customer_id         object\n",
      "channel             object\n",
      "reason              object\n",
      "age                  int64\n",
      "gender              object\n",
      "product             object\n",
      "signup_date_time    object\n",
      "cancel_date_time    object\n",
      "name                object\n",
      "price                int64\n",
      "billing_cycle        int64\n",
      "dtype: object\n"
     ]
    }
   ],
   "source": [
    "#Before further data cleaning, let's check the type of values in each column\n",
    "print(tb3.dtypes)"
   ]
  },
  {
   "cell_type": "code",
   "execution_count": 263,
   "id": "e023b1be",
   "metadata": {},
   "outputs": [
    {
     "data": {
      "text/html": [
       "<div>\n",
       "<style scoped>\n",
       "    .dataframe tbody tr th:only-of-type {\n",
       "        vertical-align: middle;\n",
       "    }\n",
       "\n",
       "    .dataframe tbody tr th {\n",
       "        vertical-align: top;\n",
       "    }\n",
       "\n",
       "    .dataframe thead th {\n",
       "        text-align: right;\n",
       "    }\n",
       "</style>\n",
       "<table border=\"1\" class=\"dataframe\">\n",
       "  <thead>\n",
       "    <tr style=\"text-align: right;\">\n",
       "      <th></th>\n",
       "      <th>case_id</th>\n",
       "      <th>customer_id</th>\n",
       "      <th>channel</th>\n",
       "      <th>reason</th>\n",
       "      <th>age</th>\n",
       "      <th>gender</th>\n",
       "      <th>product</th>\n",
       "      <th>name</th>\n",
       "      <th>price</th>\n",
       "      <th>billing_cycle</th>\n",
       "      <th>if_cancel</th>\n",
       "    </tr>\n",
       "  </thead>\n",
       "  <tbody>\n",
       "    <tr>\n",
       "      <th>0</th>\n",
       "      <td>CC101</td>\n",
       "      <td>C2448</td>\n",
       "      <td>phone</td>\n",
       "      <td>signup</td>\n",
       "      <td>76</td>\n",
       "      <td>female</td>\n",
       "      <td>prd_1</td>\n",
       "      <td>annual_subscription</td>\n",
       "      <td>1200</td>\n",
       "      <td>12</td>\n",
       "      <td>0</td>\n",
       "    </tr>\n",
       "    <tr>\n",
       "      <th>1</th>\n",
       "      <td>CC102</td>\n",
       "      <td>C2449</td>\n",
       "      <td>phone</td>\n",
       "      <td>signup</td>\n",
       "      <td>61</td>\n",
       "      <td>male</td>\n",
       "      <td>prd_1</td>\n",
       "      <td>annual_subscription</td>\n",
       "      <td>1200</td>\n",
       "      <td>12</td>\n",
       "      <td>1</td>\n",
       "    </tr>\n",
       "    <tr>\n",
       "      <th>2</th>\n",
       "      <td>CC103</td>\n",
       "      <td>C2450</td>\n",
       "      <td>phone</td>\n",
       "      <td>signup</td>\n",
       "      <td>58</td>\n",
       "      <td>female</td>\n",
       "      <td>prd_1</td>\n",
       "      <td>annual_subscription</td>\n",
       "      <td>1200</td>\n",
       "      <td>12</td>\n",
       "      <td>1</td>\n",
       "    </tr>\n",
       "    <tr>\n",
       "      <th>3</th>\n",
       "      <td>CC104</td>\n",
       "      <td>C2451</td>\n",
       "      <td>phone</td>\n",
       "      <td>signup</td>\n",
       "      <td>62</td>\n",
       "      <td>female</td>\n",
       "      <td>prd_2</td>\n",
       "      <td>monthly_subscription</td>\n",
       "      <td>125</td>\n",
       "      <td>1</td>\n",
       "      <td>0</td>\n",
       "    </tr>\n",
       "    <tr>\n",
       "      <th>4</th>\n",
       "      <td>CC105</td>\n",
       "      <td>C2452</td>\n",
       "      <td>phone</td>\n",
       "      <td>signup</td>\n",
       "      <td>71</td>\n",
       "      <td>male</td>\n",
       "      <td>prd_1</td>\n",
       "      <td>annual_subscription</td>\n",
       "      <td>1200</td>\n",
       "      <td>12</td>\n",
       "      <td>1</td>\n",
       "    </tr>\n",
       "  </tbody>\n",
       "</table>\n",
       "</div>"
      ],
      "text/plain": [
       "  case_id customer_id channel  reason  age  gender product  \\\n",
       "0   CC101       C2448   phone  signup   76  female   prd_1   \n",
       "1   CC102       C2449   phone  signup   61    male   prd_1   \n",
       "2   CC103       C2450   phone  signup   58  female   prd_1   \n",
       "3   CC104       C2451   phone  signup   62  female   prd_2   \n",
       "4   CC105       C2452   phone  signup   71    male   prd_1   \n",
       "\n",
       "                   name  price  billing_cycle  if_cancel  \n",
       "0   annual_subscription   1200             12          0  \n",
       "1   annual_subscription   1200             12          1  \n",
       "2   annual_subscription   1200             12          1  \n",
       "3  monthly_subscription    125              1          0  \n",
       "4   annual_subscription   1200             12          1  "
      ]
     },
     "execution_count": 263,
     "metadata": {},
     "output_type": "execute_result"
    }
   ],
   "source": [
    "# Transform data and make it easier for reading. Delete columns that are irrevelant to the\n",
    "# following analysis (date).\n",
    "\n",
    "if_cancel = []\n",
    "\n",
    "for n in tb3['cancel_date_time']:\n",
    "    if type(n) == float:\n",
    "        if_cancel.append(0) \n",
    "    else:\n",
    "        if_cancel.append(1)\n",
    "        \n",
    "tb3['if_cancel'] = if_cancel\n",
    "\n",
    "tb3 = tb3.drop(['date_time','signup_date_time','cancel_date_time'], axis = 1)\n",
    "\n",
    "tb3.head()"
   ]
  },
  {
   "cell_type": "code",
   "execution_count": 264,
   "id": "39ad5859",
   "metadata": {},
   "outputs": [
    {
     "data": {
      "text/html": [
       "<div>\n",
       "<style scoped>\n",
       "    .dataframe tbody tr th:only-of-type {\n",
       "        vertical-align: middle;\n",
       "    }\n",
       "\n",
       "    .dataframe tbody tr th {\n",
       "        vertical-align: top;\n",
       "    }\n",
       "\n",
       "    .dataframe thead th {\n",
       "        text-align: right;\n",
       "    }\n",
       "</style>\n",
       "<table border=\"1\" class=\"dataframe\">\n",
       "  <thead>\n",
       "    <tr style=\"text-align: right;\">\n",
       "      <th></th>\n",
       "      <th>case_id</th>\n",
       "      <th>customer_id</th>\n",
       "      <th>channel</th>\n",
       "      <th>reason</th>\n",
       "      <th>age</th>\n",
       "      <th>gender</th>\n",
       "      <th>product</th>\n",
       "      <th>subscription_type</th>\n",
       "      <th>price</th>\n",
       "      <th>billing_cycle</th>\n",
       "      <th>if_cancel</th>\n",
       "      <th>age_range</th>\n",
       "    </tr>\n",
       "  </thead>\n",
       "  <tbody>\n",
       "    <tr>\n",
       "      <th>0</th>\n",
       "      <td>CC101</td>\n",
       "      <td>C2448</td>\n",
       "      <td>phone</td>\n",
       "      <td>signup</td>\n",
       "      <td>76</td>\n",
       "      <td>female</td>\n",
       "      <td>prd_1</td>\n",
       "      <td>annual_subscription</td>\n",
       "      <td>1200</td>\n",
       "      <td>12</td>\n",
       "      <td>0</td>\n",
       "      <td>Old</td>\n",
       "    </tr>\n",
       "    <tr>\n",
       "      <th>1</th>\n",
       "      <td>CC102</td>\n",
       "      <td>C2449</td>\n",
       "      <td>phone</td>\n",
       "      <td>signup</td>\n",
       "      <td>61</td>\n",
       "      <td>male</td>\n",
       "      <td>prd_1</td>\n",
       "      <td>annual_subscription</td>\n",
       "      <td>1200</td>\n",
       "      <td>12</td>\n",
       "      <td>1</td>\n",
       "      <td>Old</td>\n",
       "    </tr>\n",
       "    <tr>\n",
       "      <th>2</th>\n",
       "      <td>CC103</td>\n",
       "      <td>C2450</td>\n",
       "      <td>phone</td>\n",
       "      <td>signup</td>\n",
       "      <td>58</td>\n",
       "      <td>female</td>\n",
       "      <td>prd_1</td>\n",
       "      <td>annual_subscription</td>\n",
       "      <td>1200</td>\n",
       "      <td>12</td>\n",
       "      <td>1</td>\n",
       "      <td>Middle</td>\n",
       "    </tr>\n",
       "    <tr>\n",
       "      <th>3</th>\n",
       "      <td>CC104</td>\n",
       "      <td>C2451</td>\n",
       "      <td>phone</td>\n",
       "      <td>signup</td>\n",
       "      <td>62</td>\n",
       "      <td>female</td>\n",
       "      <td>prd_2</td>\n",
       "      <td>monthly_subscription</td>\n",
       "      <td>125</td>\n",
       "      <td>1</td>\n",
       "      <td>0</td>\n",
       "      <td>Old</td>\n",
       "    </tr>\n",
       "    <tr>\n",
       "      <th>4</th>\n",
       "      <td>CC105</td>\n",
       "      <td>C2452</td>\n",
       "      <td>phone</td>\n",
       "      <td>signup</td>\n",
       "      <td>71</td>\n",
       "      <td>male</td>\n",
       "      <td>prd_1</td>\n",
       "      <td>annual_subscription</td>\n",
       "      <td>1200</td>\n",
       "      <td>12</td>\n",
       "      <td>1</td>\n",
       "      <td>Old</td>\n",
       "    </tr>\n",
       "  </tbody>\n",
       "</table>\n",
       "</div>"
      ],
      "text/plain": [
       "  case_id customer_id channel  reason  age  gender product  \\\n",
       "0   CC101       C2448   phone  signup   76  female   prd_1   \n",
       "1   CC102       C2449   phone  signup   61    male   prd_1   \n",
       "2   CC103       C2450   phone  signup   58  female   prd_1   \n",
       "3   CC104       C2451   phone  signup   62  female   prd_2   \n",
       "4   CC105       C2452   phone  signup   71    male   prd_1   \n",
       "\n",
       "      subscription_type  price  billing_cycle  if_cancel age_range  \n",
       "0   annual_subscription   1200             12          0       Old  \n",
       "1   annual_subscription   1200             12          1       Old  \n",
       "2   annual_subscription   1200             12          1    Middle  \n",
       "3  monthly_subscription    125              1          0       Old  \n",
       "4   annual_subscription   1200             12          1       Old  "
      ]
     },
     "execution_count": 264,
     "metadata": {},
     "output_type": "execute_result"
    }
   ],
   "source": [
    "# Classify customers into three groups based on their ages, which will be easier for following analysis\n",
    "# to find a pattern.\n",
    "\n",
    "\n",
    "age_range = []\n",
    "\n",
    "for n in tb3['age']:\n",
    "    if n >= 0 and n < 40:\n",
    "        age_range.append('Young')\n",
    "    elif n >= 40 and n < 60:\n",
    "        age_range.append('Middle')\n",
    "    else:\n",
    "        age_range.append('Old')\n",
    "        \n",
    "tb3['age_range'] = age_range\n",
    "\n",
    "tb3 = tb3.rename(columns = {'name':'subscription_type'})\n",
    "\n",
    "tb3.head()"
   ]
  },
  {
   "cell_type": "code",
   "execution_count": 265,
   "id": "6a0eea1e",
   "metadata": {},
   "outputs": [
    {
     "data": {
      "text/plain": [
       "Text(0.5, 1.0, 'Subscription Composition')"
      ]
     },
     "execution_count": 265,
     "metadata": {},
     "output_type": "execute_result"
    },
    {
     "data": {
      "image/png": "[encoded data removed]",
      "text/plain": [
       "<Figure size 720x504 with 1 Axes>"
      ]
     },
     "metadata": {},
     "output_type": "display_data"
    }
   ],
   "source": [
    "# Let's have a brief look at how people subscribe. \n",
    "# Is annual payment preferred or monthly payment?\n",
    "fig, ax = plt.subplots(figsize = (10,7))\n",
    "values = tb3['subscription_type'].value_counts().values\n",
    "label = tb3['subscription_type'].value_counts().index\n",
    "ax.pie(values, labels = label, autopct = '%1.1f%%')\n",
    "ax.legend(label, loc = 'upper right')\n",
    "ax.set_title('Subscription Composition')"
   ]
  },
  {
   "cell_type": "code",
   "execution_count": 266,
   "id": "8ba6bfbd",
   "metadata": {},
   "outputs": [
    {
     "data": {
      "text/plain": [
       "Text(0.5, 1.0, 'Gender Composition')"
      ]
     },
     "execution_count": 266,
     "metadata": {},
     "output_type": "execute_result"
    },
    {
     "data": {
      "image/png": "[encoded data removed]",
      "text/plain": [
       "<Figure size 720x504 with 1 Axes>"
      ]
     },
     "metadata": {},
     "output_type": "display_data"
    }
   ],
   "source": [
    "# Create a pie chart to discover customers' subscription pattern based on gender and reason for subscription.\n",
    "fig, ax = plt.subplots(figsize = (10,7))\n",
    "values = tb3['gender'].value_counts().values\n",
    "label = tb3['gender'].value_counts().index\n",
    "ax.pie(values, labels = label, autopct = '%1.1f%%')\n",
    "ax.legend(label, loc = 'upper right')\n",
    "ax.set_title('Gender Composition')"
   ]
  },
  {
   "cell_type": "code",
   "execution_count": 267,
   "id": "c05f5d24",
   "metadata": {},
   "outputs": [
    {
     "data": {
      "text/plain": [
       "Text(0.5, 1.0, 'Age group Composition')"
      ]
     },
     "execution_count": 267,
     "metadata": {},
     "output_type": "execute_result"
    },
    {
     "data": {
      "image/png": "[encoded data removed]",
      "text/plain": [
       "<Figure size 720x504 with 1 Axes>"
      ]
     },
     "metadata": {},
     "output_type": "display_data"
    }
   ],
   "source": [
    "# Let's categorize customers into 3 age groups and look at the age composition of customers.\n",
    "\n",
    "tb3['age_range'] = pd.cut(tb3['age'], [0,40,60,100], labels = ['young(40 and below)','middle-aged(40 - 60)','old(60 and above)'])\n",
    "fig, ax = plt.subplots(figsize = (10,7))\n",
    "values = tb3['age_range'].value_counts().values\n",
    "label = tb3['age_range'].value_counts().index\n",
    "ax.pie(values, labels = label, autopct = '%1.1f%%')\n",
    "ax.legend(label, loc = 'upper right',bbox_to_anchor = (1.1,1))\n",
    "ax.set_title('Age group Composition')"
   ]
  },
  {
   "cell_type": "code",
   "execution_count": 268,
   "id": "7cfc2469",
   "metadata": {},
   "outputs": [
    {
     "data": {
      "text/plain": [
       "Text(0.5, 1.0, 'Channel Composition')"
      ]
     },
     "execution_count": 268,
     "metadata": {},
     "output_type": "execute_result"
    },
    {
     "data": {
      "image/png": "[encoded data removed]",
      "text/plain": [
       "<Figure size 720x504 with 1 Axes>"
      ]
     },
     "metadata": {},
     "output_type": "display_data"
    }
   ],
   "source": [
    "# Customers seem to strongly prefer phone to email as the main channel, which seems normal for middle-aged\n",
    "# and old people.\n",
    "\n",
    "fig, ax = plt.subplots(figsize = (10,7))\n",
    "values = tb3['channel'].value_counts().values\n",
    "label = tb3['channel'].value_counts().index\n",
    "ax.pie(values, labels = label, autopct = '%1.1f%%')\n",
    "ax.legend(label, loc = 'upper right')\n",
    "ax.set_title('Channel Composition')"
   ]
  },
  {
   "cell_type": "code",
   "execution_count": 269,
   "id": "0b861066",
   "metadata": {},
   "outputs": [
    {
     "data": {
      "text/plain": [
       "Text(0.5, 1.0, 'Reason Composition')"
      ]
     },
     "execution_count": 269,
     "metadata": {},
     "output_type": "execute_result"
    },
    {
     "data": {
      "image/png": "[encoded data removed]",
      "text/plain": [
       "<Figure size 720x504 with 1 Axes>"
      ]
     },
     "metadata": {},
     "output_type": "display_data"
    }
   ],
   "source": [
    "# Finally, let's look at if there are more customers signing up or supporting.\n",
    "\n",
    "fig, ax = plt.subplots(figsize = (10,7))\n",
    "values = tb3['reason'].value_counts().values\n",
    "label = tb3['reason'].value_counts().index\n",
    "ax.pie(values, labels = label, autopct = '%1.1f%%')\n",
    "ax.legend(label, loc = 'upper right')\n",
    "ax.set_title('Reason Composition')"
   ]
  },
  {
   "cell_type": "code",
   "execution_count": 270,
   "id": "d8de4830",
   "metadata": {},
   "outputs": [],
   "source": [
    "# Now that we have identified some general traits of customers, let's further look at the churn rates\n",
    "# of different groups using a defined function.\n",
    "tb3\n",
    "def churn_plot(columns):\n",
    "   \n",
    "    tb3.groupby(columns)[\"if_cancel\"].mean().plot(kind=\"barh\",label=\"Churn Probability\")\n",
    "    plt.legend(bbox_to_anchor=(0.75,1.15))\n",
    "    plt.xlabel(\"PROBABILITY\")\n",
    "    plt.show()\n"
   ]
  },
  {
   "cell_type": "code",
   "execution_count": 271,
   "id": "4592027d",
   "metadata": {},
   "outputs": [
    {
     "data": {
      "image/png": "[encoded data removed]",
      "text/plain": [
       "<Figure size 432x288 with 1 Axes>"
      ]
     },
     "metadata": {
      "needs_background": "light"
     },
     "output_type": "display_data"
    }
   ],
   "source": [
    "churn_plot(['gender','subscription_type'])"
   ]
  },
  {
   "cell_type": "code",
   "execution_count": 272,
   "id": "dc3c144a",
   "metadata": {},
   "outputs": [
    {
     "data": {
      "image/png": "[encoded data removed]",
      "text/plain": [
       "<Figure size 432x288 with 1 Axes>"
      ]
     },
     "metadata": {
      "needs_background": "light"
     },
     "output_type": "display_data"
    }
   ],
   "source": [
    "churn_plot(['gender','channel'])"
   ]
  },
  {
   "cell_type": "code",
   "execution_count": 273,
   "id": "53bf4a6c",
   "metadata": {},
   "outputs": [
    {
     "data": {
      "image/png": "[encoded data removed]",
      "text/plain": [
       "<Figure size 432x288 with 1 Axes>"
      ]
     },
     "metadata": {
      "needs_background": "light"
     },
     "output_type": "display_data"
    }
   ],
   "source": [
    "churn_plot(['age_range','subscription_type'])"
   ]
  },
  {
   "cell_type": "code",
   "execution_count": 274,
   "id": "8652948a",
   "metadata": {},
   "outputs": [
    {
     "data": {
      "image/png": "[encoded data removed]",
      "text/plain": [
       "<Figure size 432x288 with 1 Axes>"
      ]
     },
     "metadata": {
      "needs_background": "light"
     },
     "output_type": "display_data"
    }
   ],
   "source": [
    "churn_plot(['age_range','channel'])"
   ]
  },
  {
   "cell_type": "code",
   "execution_count": 275,
   "id": "e57487e6",
   "metadata": {},
   "outputs": [
    {
     "data": {
      "text/html": [
       "<div>\n",
       "<style scoped>\n",
       "    .dataframe tbody tr th:only-of-type {\n",
       "        vertical-align: middle;\n",
       "    }\n",
       "\n",
       "    .dataframe tbody tr th {\n",
       "        vertical-align: top;\n",
       "    }\n",
       "\n",
       "    .dataframe thead th {\n",
       "        text-align: right;\n",
       "    }\n",
       "</style>\n",
       "<table border=\"1\" class=\"dataframe\">\n",
       "  <thead>\n",
       "    <tr style=\"text-align: right;\">\n",
       "      <th></th>\n",
       "      <th>case_id</th>\n",
       "      <th>customer_id</th>\n",
       "      <th>channel</th>\n",
       "      <th>reason</th>\n",
       "      <th>age</th>\n",
       "      <th>gender</th>\n",
       "      <th>product</th>\n",
       "      <th>subscription_type</th>\n",
       "      <th>price</th>\n",
       "      <th>billing_cycle</th>\n",
       "      <th>if_cancel</th>\n",
       "      <th>age_range</th>\n",
       "    </tr>\n",
       "  </thead>\n",
       "  <tbody>\n",
       "    <tr>\n",
       "      <th>0</th>\n",
       "      <td>CC101</td>\n",
       "      <td>C2448</td>\n",
       "      <td>phone</td>\n",
       "      <td>signup</td>\n",
       "      <td>76</td>\n",
       "      <td>female</td>\n",
       "      <td>prd_1</td>\n",
       "      <td>annual_subscription</td>\n",
       "      <td>1200</td>\n",
       "      <td>12</td>\n",
       "      <td>0</td>\n",
       "      <td>old(60 and above)</td>\n",
       "    </tr>\n",
       "    <tr>\n",
       "      <th>1</th>\n",
       "      <td>CC102</td>\n",
       "      <td>C2449</td>\n",
       "      <td>phone</td>\n",
       "      <td>signup</td>\n",
       "      <td>61</td>\n",
       "      <td>male</td>\n",
       "      <td>prd_1</td>\n",
       "      <td>annual_subscription</td>\n",
       "      <td>1200</td>\n",
       "      <td>12</td>\n",
       "      <td>1</td>\n",
       "      <td>old(60 and above)</td>\n",
       "    </tr>\n",
       "    <tr>\n",
       "      <th>2</th>\n",
       "      <td>CC103</td>\n",
       "      <td>C2450</td>\n",
       "      <td>phone</td>\n",
       "      <td>signup</td>\n",
       "      <td>58</td>\n",
       "      <td>female</td>\n",
       "      <td>prd_1</td>\n",
       "      <td>annual_subscription</td>\n",
       "      <td>1200</td>\n",
       "      <td>12</td>\n",
       "      <td>1</td>\n",
       "      <td>middle-aged(40 - 60)</td>\n",
       "    </tr>\n",
       "    <tr>\n",
       "      <th>3</th>\n",
       "      <td>CC104</td>\n",
       "      <td>C2451</td>\n",
       "      <td>phone</td>\n",
       "      <td>signup</td>\n",
       "      <td>62</td>\n",
       "      <td>female</td>\n",
       "      <td>prd_2</td>\n",
       "      <td>monthly_subscription</td>\n",
       "      <td>125</td>\n",
       "      <td>1</td>\n",
       "      <td>0</td>\n",
       "      <td>old(60 and above)</td>\n",
       "    </tr>\n",
       "    <tr>\n",
       "      <th>4</th>\n",
       "      <td>CC105</td>\n",
       "      <td>C2452</td>\n",
       "      <td>phone</td>\n",
       "      <td>signup</td>\n",
       "      <td>71</td>\n",
       "      <td>male</td>\n",
       "      <td>prd_1</td>\n",
       "      <td>annual_subscription</td>\n",
       "      <td>1200</td>\n",
       "      <td>12</td>\n",
       "      <td>1</td>\n",
       "      <td>old(60 and above)</td>\n",
       "    </tr>\n",
       "  </tbody>\n",
       "</table>\n",
       "</div>"
      ],
      "text/plain": [
       "  case_id customer_id channel  reason  age  gender product  \\\n",
       "0   CC101       C2448   phone  signup   76  female   prd_1   \n",
       "1   CC102       C2449   phone  signup   61    male   prd_1   \n",
       "2   CC103       C2450   phone  signup   58  female   prd_1   \n",
       "3   CC104       C2451   phone  signup   62  female   prd_2   \n",
       "4   CC105       C2452   phone  signup   71    male   prd_1   \n",
       "\n",
       "      subscription_type  price  billing_cycle  if_cancel             age_range  \n",
       "0   annual_subscription   1200             12          0     old(60 and above)  \n",
       "1   annual_subscription   1200             12          1     old(60 and above)  \n",
       "2   annual_subscription   1200             12          1  middle-aged(40 - 60)  \n",
       "3  monthly_subscription    125              1          0     old(60 and above)  \n",
       "4   annual_subscription   1200             12          1     old(60 and above)  "
      ]
     },
     "execution_count": 275,
     "metadata": {},
     "output_type": "execute_result"
    }
   ],
   "source": [
    "tb3.head()"
   ]
  },
  {
   "cell_type": "code",
   "execution_count": 276,
   "id": "1e363850",
   "metadata": {},
   "outputs": [
    {
     "data": {
      "text/html": [
       "<div>\n",
       "<style scoped>\n",
       "    .dataframe tbody tr th:only-of-type {\n",
       "        vertical-align: middle;\n",
       "    }\n",
       "\n",
       "    .dataframe tbody tr th {\n",
       "        vertical-align: top;\n",
       "    }\n",
       "\n",
       "    .dataframe thead th {\n",
       "        text-align: right;\n",
       "    }\n",
       "</style>\n",
       "<table border=\"1\" class=\"dataframe\">\n",
       "  <thead>\n",
       "    <tr style=\"text-align: right;\">\n",
       "      <th></th>\n",
       "      <th>age</th>\n",
       "      <th>price</th>\n",
       "      <th>billing_cycle</th>\n",
       "      <th>if_cancel</th>\n",
       "      <th>phone</th>\n",
       "      <th>support</th>\n",
       "      <th>male</th>\n",
       "      <th>prd_2</th>\n",
       "      <th>monthly_subscription</th>\n",
       "    </tr>\n",
       "  </thead>\n",
       "  <tbody>\n",
       "    <tr>\n",
       "      <th>0</th>\n",
       "      <td>76</td>\n",
       "      <td>1200</td>\n",
       "      <td>12</td>\n",
       "      <td>0</td>\n",
       "      <td>1</td>\n",
       "      <td>0</td>\n",
       "      <td>0</td>\n",
       "      <td>0</td>\n",
       "      <td>0</td>\n",
       "    </tr>\n",
       "    <tr>\n",
       "      <th>1</th>\n",
       "      <td>61</td>\n",
       "      <td>1200</td>\n",
       "      <td>12</td>\n",
       "      <td>1</td>\n",
       "      <td>1</td>\n",
       "      <td>0</td>\n",
       "      <td>1</td>\n",
       "      <td>0</td>\n",
       "      <td>0</td>\n",
       "    </tr>\n",
       "    <tr>\n",
       "      <th>2</th>\n",
       "      <td>58</td>\n",
       "      <td>1200</td>\n",
       "      <td>12</td>\n",
       "      <td>1</td>\n",
       "      <td>1</td>\n",
       "      <td>0</td>\n",
       "      <td>0</td>\n",
       "      <td>0</td>\n",
       "      <td>0</td>\n",
       "    </tr>\n",
       "    <tr>\n",
       "      <th>3</th>\n",
       "      <td>62</td>\n",
       "      <td>125</td>\n",
       "      <td>1</td>\n",
       "      <td>0</td>\n",
       "      <td>1</td>\n",
       "      <td>0</td>\n",
       "      <td>0</td>\n",
       "      <td>1</td>\n",
       "      <td>1</td>\n",
       "    </tr>\n",
       "    <tr>\n",
       "      <th>4</th>\n",
       "      <td>71</td>\n",
       "      <td>1200</td>\n",
       "      <td>12</td>\n",
       "      <td>1</td>\n",
       "      <td>1</td>\n",
       "      <td>0</td>\n",
       "      <td>1</td>\n",
       "      <td>0</td>\n",
       "      <td>0</td>\n",
       "    </tr>\n",
       "  </tbody>\n",
       "</table>\n",
       "</div>"
      ],
      "text/plain": [
       "   age  price  billing_cycle  if_cancel  phone  support  male  prd_2  \\\n",
       "0   76   1200             12          0      1        0     0      0   \n",
       "1   61   1200             12          1      1        0     1      0   \n",
       "2   58   1200             12          1      1        0     0      0   \n",
       "3   62    125              1          0      1        0     0      1   \n",
       "4   71   1200             12          1      1        0     1      0   \n",
       "\n",
       "   monthly_subscription  \n",
       "0                     0  \n",
       "1                     0  \n",
       "2                     0  \n",
       "3                     1  \n",
       "4                     0  "
      ]
     },
     "execution_count": 276,
     "metadata": {},
     "output_type": "execute_result"
    }
   ],
   "source": [
    "# Finally, let's fit the data into a logistic model to find the relationship between different groups and\n",
    "# their cancel decision.\n",
    "\n",
    "Channel = pd.get_dummies(tb3['channel'],drop_first = True)\n",
    "Reason = pd.get_dummies(tb3['reason'],drop_first = True)\n",
    "Gender = pd.get_dummies(tb3['gender'],drop_first = True)\n",
    "Product = pd.get_dummies(tb3['product'],drop_first = True)\n",
    "Sub = pd.get_dummies(tb3['subscription_type'],drop_first = True)\n",
    "df = tb3.drop(['channel','reason','gender','product','subscription_type','age_range','customer_id','case_id'],axis = 1,inplace = True)\n",
    "\n",
    "df = pd.concat([tb3,Channel,Reason,Gender,Product,Sub],axis = 1)\n",
    "\n",
    "df.head()"
   ]
  },
  {
   "cell_type": "code",
   "execution_count": 277,
   "id": "c3c1a499",
   "metadata": {},
   "outputs": [],
   "source": [
    "from sklearn.model_selection import train_test_split"
   ]
  },
  {
   "cell_type": "code",
   "execution_count": 278,
   "id": "f8595d29",
   "metadata": {},
   "outputs": [],
   "source": [
    "x_train, x_test, y_train, y_test = train_test_split(df.drop('if_cancel',axis=1),df['if_cancel'],\n",
    "                                                   test_size = 0.3, random_state = 101)"
   ]
  },
  {
   "cell_type": "code",
   "execution_count": 279,
   "id": "4076cc35",
   "metadata": {},
   "outputs": [],
   "source": [
    "from sklearn.linear_model import LogisticRegression"
   ]
  },
  {
   "cell_type": "code",
   "execution_count": 280,
   "id": "fef52732",
   "metadata": {},
   "outputs": [
    {
     "data": {
      "text/plain": [
       "LogisticRegression()"
      ]
     },
     "execution_count": 280,
     "metadata": {},
     "output_type": "execute_result"
    }
   ],
   "source": [
    "logmodel = LogisticRegression()\n",
    "logmodel.fit(x_train,y_train)"
   ]
  },
  {
   "cell_type": "code",
   "execution_count": 282,
   "id": "24e4be3b",
   "metadata": {},
   "outputs": [],
   "source": [
    "predictions = logmodel.predict(x_test)"
   ]
  },
  {
   "cell_type": "code",
   "execution_count": 285,
   "id": "be799ad8",
   "metadata": {},
   "outputs": [],
   "source": [
    "from sklearn.metrics import classification_report, confusion_matrix"
   ]
  },
  {
   "cell_type": "code",
   "execution_count": 284,
   "id": "a8384faa",
   "metadata": {},
   "outputs": [
    {
     "name": "stdout",
     "output_type": "stream",
     "text": [
      "              precision    recall  f1-score   support\n",
      "\n",
      "           0       0.77      1.00      0.87     76209\n",
      "           1       0.00      0.00      0.00     22945\n",
      "\n",
      "    accuracy                           0.77     99154\n",
      "   macro avg       0.38      0.50      0.43     99154\n",
      "weighted avg       0.59      0.77      0.67     99154\n",
      "\n"
     ]
    },
    {
     "name": "stderr",
     "output_type": "stream",
     "text": [
      "/Users/luke.xu/opt/anaconda3/lib/python3.9/site-packages/sklearn/metrics/_classification.py:1318: UndefinedMetricWarning: Precision and F-score are ill-defined and being set to 0.0 in labels with no predicted samples. Use `zero_division` parameter to control this behavior.\n",
      "  _warn_prf(average, modifier, msg_start, len(result))\n",
      "/Users/luke.xu/opt/anaconda3/lib/python3.9/site-packages/sklearn/metrics/_classification.py:1318: UndefinedMetricWarning: Precision and F-score are ill-defined and being set to 0.0 in labels with no predicted samples. Use `zero_division` parameter to control this behavior.\n",
      "  _warn_prf(average, modifier, msg_start, len(result))\n",
      "/Users/luke.xu/opt/anaconda3/lib/python3.9/site-packages/sklearn/metrics/_classification.py:1318: UndefinedMetricWarning: Precision and F-score are ill-defined and being set to 0.0 in labels with no predicted samples. Use `zero_division` parameter to control this behavior.\n",
      "  _warn_prf(average, modifier, msg_start, len(result))\n"
     ]
    }
   ],
   "source": [
    "print(classification_report(y_test,predictions))"
   ]
  },
  {
   "cell_type": "code",
   "execution_count": 286,
   "id": "f11c72f7",
   "metadata": {},
   "outputs": [
    {
     "name": "stdout",
     "output_type": "stream",
     "text": [
      "[[76209     0]\n",
      " [22945     0]]\n"
     ]
    }
   ],
   "source": [
    "print(confusion_matrix(y_test, predictions))"
   ]
  },
  {
   "cell_type": "code",
   "execution_count": null,
   "id": "37289f58",
   "metadata": {},
   "outputs": [],
   "source": []
  }
 ],
 "metadata": {
  "kernelspec": {
   "display_name": "Python 3 (ipykernel)",
   "language": "python",
   "name": "python3"
  },
  "language_info": {
   "codemirror_mode": {
    "name": "ipython",
    "version": 3
   },
   "file_extension": ".py",
   "mimetype": "text/x-python",
   "name": "python",
   "nbconvert_exporter": "python",
   "pygments_lexer": "ipython3",
   "version": "3.9.12"
  }
 },
 "nbformat": 4,
 "nbformat_minor": 5
}
